{
 "cells": [
  {
   "cell_type": "code",
   "execution_count": 138,
   "metadata": {},
   "outputs": [],
   "source": [
    "import tensorflow as tf\n",
    "import numpy as np \n",
    "import pandas as pd \n",
    "from collections import Counter\n",
    "import random\n",
    "import IPython\n",
    "from IPython.display import Image, Audio\n",
    "import music21\n",
    "\n",
    "from music21 import *\n",
    "import matplotlib.pyplot as plt \n",
    "from sklearn.model_selection import train_test_split\n",
    "from tensorflow.keras.models import Sequential\n",
    "from tensorflow.keras.layers import LSTM, Dense, Dropout\n",
    "import tensorflow.keras.backend as K\n",
    "from tensorflow.keras.optimizers import Adamax\n",
    "import seaborn as sns\n",
    "import matplotlib.pyplot as plt\n",
    "import matplotlib.patches as mpatches\n",
    "from midi2audio import FluidSynth\n",
    "\n",
    "%matplotlib inline\n",
    "import sys\n",
    "import warnings\n",
    "warnings.filterwarnings(\"ignore\")\n",
    "warnings.simplefilter(\"ignore\")\n",
    "np.random.seed(42)\n",
    "\n",
    "import os"
   ]
  },
  {
   "cell_type": "code",
   "execution_count": 141,
   "metadata": {},
   "outputs": [],
   "source": [
    "def show(music):\n",
    "    display(Image(str(music.write(\"lily.png\"))))"
   ]
  },
  {
   "attachments": {},
   "cell_type": "markdown",
   "metadata": {},
   "source": [
    "## Set gpu growth"
   ]
  },
  {
   "cell_type": "code",
   "execution_count": 2,
   "metadata": {},
   "outputs": [],
   "source": [
    "# Avoid OOM errors by setting GPU Memory Consumption Growth\n",
    "gpus = tf.config.experimental.list_physical_devices('GPU')\n",
    "for gpu in gpus: \n",
    "    tf.config.experimental.set_memory_growth(gpu, True)"
   ]
  },
  {
   "attachments": {},
   "cell_type": "markdown",
   "metadata": {},
   "source": [
    "## Set the midi data."
   ]
  },
  {
   "cell_type": "code",
   "execution_count": 49,
   "metadata": {},
   "outputs": [],
   "source": [
    "#Loading the list of mozart midi files as stream \n",
    "filepath = \"../AI-model/data/mozart/\"  \n",
    "#Getting midi files\n",
    "all_midis= []\n",
    "for i in os.listdir(filepath):\n",
    "    if i.endswith(\".mid\"):\n",
    "        tr = filepath+i\n",
    "        midi = converter.parse(tr)\n",
    "        all_midis.append(midi)"
   ]
  },
  {
   "cell_type": "code",
   "execution_count": 78,
   "metadata": {},
   "outputs": [
    {
     "name": "stdout",
     "output_type": "stream",
     "text": [
      "[<music21.stream.Score 0x28581b23fd0>, <music21.stream.Score 0x285805e1540>, <music21.stream.Score 0x28586df3fd0>, <music21.stream.Score 0x28580408430>, <music21.stream.Score 0x28581034430>, <music21.stream.Score 0x2858b401060>, <music21.stream.Score 0x2858fbd10f0>, <music21.stream.Score 0x28588d05e70>, <music21.stream.Score 0x28590d52800>, <music21.stream.Score 0x285885f6a40>, <music21.stream.Score 0x28595501d50>, <music21.stream.Score 0x2858afa2ec0>, <music21.stream.Score 0x28598642e00>, <music21.stream.Score 0x28599f4d5d0>, <music21.stream.Score 0x285955b4190>, <music21.stream.Score 0x2859c009210>, <music21.stream.Score 0x28595a0fc70>, <music21.stream.Score 0x285a2c05b70>, <music21.stream.Score 0x285a2971210>, <music21.stream.Score 0x285a2c06cb0>, <music21.stream.Score 0x285a8710d90>]\n"
     ]
    }
   ],
   "source": [
    "print(all_midis)"
   ]
  },
  {
   "cell_type": "code",
   "execution_count": 50,
   "metadata": {},
   "outputs": [
    {
     "name": "stdout",
     "output_type": "stream",
     "text": [
      "Total notes in all the mozart midis in the dataset: 55802\n"
     ]
    }
   ],
   "source": [
    "def extract_notes(file):\n",
    "    notes = []\n",
    "    pick = None\n",
    "    for j in file:\n",
    "        songs = instrument.partitionByInstrument(j)\n",
    "        for part in songs.parts:\n",
    "            pick = part.recurse()\n",
    "            for element in pick:\n",
    "                if isinstance(element, note.Note):\n",
    "                    notes.append(str(element.pitch))\n",
    "                elif isinstance(element, chord.Chord):\n",
    "                    notes.append(\".\".join(str(n) for n in element.normalOrder))\n",
    "\n",
    "    return notes\n",
    "#Getting the list of notes as Corpus\n",
    "Corpus= extract_notes(all_midis)\n",
    "print(\"Total notes in all the mozart midis in the dataset:\", len(Corpus))"
   ]
  },
  {
   "attachments": {},
   "cell_type": "markdown",
   "metadata": {},
   "source": [
    "## EDA"
   ]
  },
  {
   "attachments": {},
   "cell_type": "markdown",
   "metadata": {},
   "source": [
    "# Look at the first 50 values in our corpus"
   ]
  },
  {
   "cell_type": "code",
   "execution_count": 51,
   "metadata": {},
   "outputs": [
    {
     "name": "stdout",
     "output_type": "stream",
     "text": [
      "First fifty values in the Corpus: ['2.6.9', '9.2', 'G5', '2.6', 'F#5', 'E5', 'F#5', 'A5', '4.7', 'G5', 'F#5', 'G5', 'A5', '6.9', 'A5', 'B5', 'C#6', 'D6', 'A5', 'F#3', 'D4', 'F#5', 'D3', 'D4', 'A5', 'E3', 'G5', 'F#5', 'D4', 'G5', 'A5', 'A3', 'G5', 'C#4', 'F5', '2', 'F#5', 'G5', '2.6', 'F#5', 'E5', 'F#5', 'A5', '4.7', 'G5', 'F#5', 'G5', 'A5', '6.9', 'A5']\n"
     ]
    }
   ],
   "source": [
    "print(\"First fifty values in the Corpus:\", Corpus[:50])"
   ]
  },
  {
   "cell_type": "code",
   "execution_count": 74,
   "metadata": {},
   "outputs": [
    {
     "data": {
      "text/plain": [
       "<music21.stream.Stream 0x285a6ddd4e0>"
      ]
     },
     "execution_count": 74,
     "metadata": {},
     "output_type": "execute_result"
    }
   ],
   "source": [
    "def chords_n_notes(Snippet):\n",
    "    Melody = []\n",
    "    offset = 0 #Incremental\n",
    "    for i in Snippet:\n",
    "        #If it is chord\n",
    "        if (\".\" in i or i.isdigit()):\n",
    "            chord_notes = i.split(\".\") #Seperating the notes in chord\n",
    "            notes = [] \n",
    "            for j in chord_notes:\n",
    "                inst_note=int(j)\n",
    "                note_snip = note.Note(inst_note)            \n",
    "                notes.append(note_snip)\n",
    "                chord_snip = chord.Chord(notes)\n",
    "                chord_snip.offset = offset\n",
    "                Melody.append(chord_snip)\n",
    "        # pattern is a note\n",
    "        else: \n",
    "            note_snip = note.Note(i)\n",
    "            note_snip.offset = offset\n",
    "            Melody.append(note_snip)\n",
    "        # increase offset each iteration so that notes do not stack\n",
    "        offset += 1\n",
    "    Melody_midi = stream.Stream(Melody)   \n",
    "    return Melody_midi\n",
    "\n",
    "Melody_Snippet = chords_n_notes(Corpus[:100])\n"
   ]
  },
  {
   "cell_type": "code",
   "execution_count": 143,
   "metadata": {},
   "outputs": [
    {
     "name": "stdout",
     "output_type": "stream",
     "text": [
      "113\n"
     ]
    }
   ],
   "source": [
    "print(len(Melody_Snippet))"
   ]
  },
  {
   "cell_type": "code",
   "execution_count": 88,
   "metadata": {},
   "outputs": [
    {
     "name": "stdout",
     "output_type": "stream",
     "text": [
      "Total unique notes in the Corpus: 229\n"
     ]
    }
   ],
   "source": [
    "#Creating a count dictionary\n",
    "count_num = Counter(Corpus)\n",
    "print(\"Total unique notes in the Corpus:\", len(count_num))"
   ]
  },
  {
   "cell_type": "code",
   "execution_count": 90,
   "metadata": {},
   "outputs": [
    {
     "name": "stdout",
     "output_type": "stream",
     "text": [
      "Average recurrenc for a note in Corpus: 243.6768558951965\n",
      "Most frequent note in Corpus appeared: 2355 times\n",
      "Least frequent note in Corpus appeared: 1 time\n"
     ]
    }
   ],
   "source": [
    "#Exploring the notes dictionary\n",
    "Notes = list(count_num.keys())\n",
    "Recurrence = list(count_num.values())\n",
    "#Average recurrenc for a note in Corpus\n",
    "def Average(lst):\n",
    "    return sum(lst) / len(lst)\n",
    "print(\"Average recurrenc for a note in Corpus:\", Average(Recurrence))\n",
    "print(\"Most frequent note in Corpus appeared:\", max(Recurrence), \"times\")\n",
    "print(\"Least frequent note in Corpus appeared:\", min(Recurrence), \"time\")"
   ]
  },
  {
   "cell_type": "code",
   "execution_count": 91,
   "metadata": {},
   "outputs": [
    {
     "data": {
      "image/png": "[encoded data removed]",
      "text/plain": [
       "<Figure size 1800x300 with 1 Axes>"
      ]
     },
     "metadata": {
      "image/png": {
       "height": 315,
       "width": 1470
      }
     },
     "output_type": "display_data"
    }
   ],
   "source": [
    "#Plotting the distribution of Notes\n",
    "plt.figure(figsize=(18,3),facecolor=\"#97BACB\")\n",
    "bins = np.arange(0,(max(Recurrence)), 50) \n",
    "plt.hist(Recurrence, bins=bins, color=\"#97BACB\")\n",
    "plt.axvline(x=100,color=\"#DBACC1\")\n",
    "plt.title(\"Frequency Distribution Of Notes In The Corpus\")\n",
    "plt.xlabel(\"Frequency Of Chords in Corpus\")\n",
    "plt.ylabel(\"Number Of Chords\")\n",
    "plt.show()\n"
   ]
  },
  {
   "attachments": {},
   "cell_type": "markdown",
   "metadata": {},
   "source": [
    "# Data Training"
   ]
  },
  {
   "cell_type": "code",
   "execution_count": 92,
   "metadata": {},
   "outputs": [
    {
     "name": "stdout",
     "output_type": "stream",
     "text": [
      "Total number of characters: 55802\n",
      "Number of unique characters: 229\n"
     ]
    }
   ],
   "source": [
    "# Storing all the unique characters present in my corpus to bult a mapping dic. \n",
    "symb = sorted(list(set(Corpus)))\n",
    "\n",
    "L_corpus = len(Corpus) #length of corpus\n",
    "L_symb = len(symb) #length of total unique characters\n",
    "\n",
    "#Building dictionary to access the vocabulary from indices and vice versa\n",
    "mapping = dict((c, i) for i, c in enumerate(symb))\n",
    "reverse_mapping = dict((i, c) for i, c in enumerate(symb))\n",
    "\n",
    "print(\"Total number of characters:\", L_corpus)\n",
    "print(\"Number of unique characters:\", L_symb)"
   ]
  },
  {
   "cell_type": "code",
   "execution_count": 93,
   "metadata": {},
   "outputs": [
    {
     "name": "stdout",
     "output_type": "stream",
     "text": [
      "Total number of sequences in the Corpus: 55762\n"
     ]
    }
   ],
   "source": [
    "#Encoding and Splitting the Corpus as Labels and Targets\n",
    "\n",
    "#Splitting the Corpus in equal length of strings and output target\n",
    "length = 40\n",
    "features = []\n",
    "targets = []\n",
    "for i in range(0, L_corpus - length, 1):\n",
    "    feature = Corpus[i:i + length]\n",
    "    target = Corpus[i + length]\n",
    "    features.append([mapping[j] for j in feature])\n",
    "    targets.append(mapping[target])\n",
    "    \n",
    "    \n",
    "L_datapoints = len(targets)\n",
    "print(\"Total number of sequences in the Corpus:\", L_datapoints)"
   ]
  },
  {
   "cell_type": "code",
   "execution_count": 95,
   "metadata": {},
   "outputs": [],
   "source": [
    "X = (np.reshape(features, (L_datapoints, length, 1)))/ float(L_symb)\n",
    "# one hot encode the output variable\n",
    "y = tf.keras.utils.to_categorical(targets) "
   ]
  },
  {
   "cell_type": "code",
   "execution_count": 113,
   "metadata": {},
   "outputs": [],
   "source": [
    "# Splitting Train and Seed datasets\n",
    "\n",
    "#Taking out a subset of data to be used as seed\n",
    "X_train, X_seed, y_train, y_seed = train_test_split(X, y, test_size=0.2, random_state=1)"
   ]
  },
  {
   "attachments": {},
   "cell_type": "markdown",
   "metadata": {},
   "source": [
    "# MODEL BUILDING"
   ]
  },
  {
   "cell_type": "code",
   "execution_count": 114,
   "metadata": {},
   "outputs": [
    {
     "name": "stdout",
     "output_type": "stream",
     "text": [
      "Model: \"sequential_1\"\n",
      "_________________________________________________________________\n",
      " Layer (type)                Output Shape              Param #   \n",
      "=================================================================\n",
      " lstm_2 (LSTM)               (None, 40, 512)           1052672   \n",
      "                                                                 \n",
      " dropout_2 (Dropout)         (None, 40, 512)           0         \n",
      "                                                                 \n",
      " lstm_3 (LSTM)               (None, 256)               787456    \n",
      "                                                                 \n",
      " dense_2 (Dense)             (None, 256)               65792     \n",
      "                                                                 \n",
      " dropout_3 (Dropout)         (None, 256)               0         \n",
      "                                                                 \n",
      " dense_3 (Dense)             (None, 229)               58853     \n",
      "                                                                 \n",
      "=================================================================\n",
      "Total params: 1,964,773\n",
      "Trainable params: 1,964,773\n",
      "Non-trainable params: 0\n",
      "_________________________________________________________________\n"
     ]
    }
   ],
   "source": [
    "#Initialising the Model\n",
    "model = Sequential()\n",
    "#Adding layers\n",
    "model.add(LSTM(512, input_shape=(X.shape[1], X.shape[2]), return_sequences=True))\n",
    "model.add(Dropout(0.1))\n",
    "model.add(LSTM(256))\n",
    "model.add(Dense(256))\n",
    "model.add(Dropout(0.1))\n",
    "model.add(Dense(y.shape[1], activation='softmax'))\n",
    "#Compiling the model for training  \n",
    "opt = Adamax(learning_rate=0.01)\n",
    "model.compile(loss='categorical_crossentropy', optimizer=opt)\n",
    "#Model's Summary               \n",
    "model.summary()"
   ]
  },
  {
   "cell_type": "code",
   "execution_count": 127,
   "metadata": {},
   "outputs": [
    {
     "name": "stdout",
     "output_type": "stream",
     "text": [
      "<music21.stream.Stream 0x285b17bc670>\n"
     ]
    }
   ],
   "source": [
    "#Generating the Melody\n",
    "\n",
    "#A function to obtain the generated music\n",
    "\n",
    "def Melody_Generator(Note_Count):\n",
    "    seed = X_seed[np.random.randint(1,len(X_seed)-1)]\n",
    "    Music = \"\"\n",
    "    Notes_Generated=[]\n",
    "    for i in range(Note_Count):\n",
    "        seed = seed.reshape(1,length,1)\n",
    "        prediction = model.predict(seed, verbose=0)[0]\n",
    "        prediction = np.log(prediction) / 1.0 #diversity\n",
    "        exp_preds = np.exp(prediction)\n",
    "        prediction = exp_preds / np.sum(exp_preds)\n",
    "        index = np.argmax(prediction)\n",
    "        index_N = index/ float(L_symb)   \n",
    "        Notes_Generated.append(index)\n",
    "        Music = [reverse_mapping[char] for char in Notes_Generated]\n",
    "        seed = np.insert(seed[0],len(seed[0]),index_N)\n",
    "        seed = seed[1:]\n",
    "    #Now, we have music in form or a list of chords and notes and we want to be a midi file.\n",
    "    Melody = chords_n_notes(Music)\n",
    "    Melody_midi = stream.Stream(Melody)   \n",
    "    return Music,Melody_midi\n",
    "\n",
    "\n",
    "#getting the Notes and Melody created by the model\n",
    "Music_notes, Melody = Melody_Generator(100)\n",
    "print(Melody)"
   ]
  },
  {
   "cell_type": "code",
   "execution_count": 128,
   "metadata": {},
   "outputs": [
    {
     "data": {
      "text/html": [
       "\n",
       "                <audio  controls=\"controls\" >\n",
       "                    <source src=\"data:audio/mid;base64,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\" type=\"audio/mid\" />\n",
       "                    Your browser does not support the audio element.\n",
       "                </audio>\n",
       "              "
      ],
      "text/plain": [
       "<IPython.lib.display.Audio object>"
      ]
     },
     "execution_count": 128,
     "metadata": {},
     "output_type": "execute_result"
    }
   ],
   "source": [
    "#To save the generated melody\n",
    "Melody.write('midi','Melody_Generated.mid')\n",
    "#to play audio or corpus\n",
    "IPython.display.Audio(\"../AI-model/Melody_Generated.mid\", rate=  44100)"
   ]
  },
  {
   "cell_type": "markdown",
   "metadata": {},
   "source": [
    "# Play the melody with PyGame"
   ]
  },
  {
   "cell_type": "code",
   "execution_count": 136,
   "metadata": {},
   "outputs": [
    {
     "ename": "SubConverterException",
     "evalue": "Cannot find a path to the 'mscore' file at c:\\Users\\DooFromash\\Desktop\\CODING\\10.melody-generator-model\\melody-generator-AI-App\\AI-model\\C:\\Program Files\\MuseScore 3\\MuseScore.exe -- download MuseScore",
     "output_type": "error",
     "traceback": [
      "\u001b[1;31m---------------------------------------------------------------------------\u001b[0m",
      "\u001b[1;31mSubConverterException\u001b[0m                     Traceback (most recent call last)",
      "Cell \u001b[1;32mIn[136], line 5\u001b[0m\n\u001b[0;32m      3\u001b[0m file \u001b[39m=\u001b[39m \u001b[39m\"\u001b[39m\u001b[39m{}\u001b[39;00m\u001b[39m/\u001b[39m\u001b[39m{}\u001b[39;00m\u001b[39m.mid\u001b[39m\u001b[39m\"\u001b[39m\u001b[39m.\u001b[39mformat(dataset_name, filename)\n\u001b[0;32m      4\u001b[0m original_score \u001b[39m=\u001b[39m converter\u001b[39m.\u001b[39mparse(file)\u001b[39m.\u001b[39mchordify()\n\u001b[1;32m----> 5\u001b[0m original_score\u001b[39m.\u001b[39;49mshow()\n",
      "File \u001b[1;32mc:\\Users\\DooFromash\\miniconda3\\envs\\melody-generator-model\\lib\\site-packages\\music21\\stream\\base.py:397\u001b[0m, in \u001b[0;36mStream.show\u001b[1;34m(self, fmt, app, **keywords)\u001b[0m\n\u001b[0;32m    395\u001b[0m \u001b[39mif\u001b[39;00m \u001b[39mself\u001b[39m\u001b[39m.\u001b[39misSorted \u001b[39mis\u001b[39;00m \u001b[39mFalse\u001b[39;00m \u001b[39mand\u001b[39;00m \u001b[39mself\u001b[39m\u001b[39m.\u001b[39mautoSort:\n\u001b[0;32m    396\u001b[0m     \u001b[39mself\u001b[39m\u001b[39m.\u001b[39msort()\n\u001b[1;32m--> 397\u001b[0m \u001b[39mreturn\u001b[39;00m \u001b[39msuper\u001b[39m()\u001b[39m.\u001b[39mshow(fmt\u001b[39m=\u001b[39mfmt, app\u001b[39m=\u001b[39mapp, \u001b[39m*\u001b[39m\u001b[39m*\u001b[39mkeywords)\n",
      "File \u001b[1;32mc:\\Users\\DooFromash\\miniconda3\\envs\\melody-generator-model\\lib\\site-packages\\music21\\base.py:2888\u001b[0m, in \u001b[0;36mMusic21Object.show\u001b[1;34m(self, fmt, app, **keywords)\u001b[0m\n\u001b[0;32m   2886\u001b[0m scClass \u001b[39m=\u001b[39m common\u001b[39m.\u001b[39mfindSubConverterForFormat(regularizedConverterFormat)\n\u001b[0;32m   2887\u001b[0m formatWriter \u001b[39m=\u001b[39m scClass()\n\u001b[1;32m-> 2888\u001b[0m \u001b[39mreturn\u001b[39;00m formatWriter\u001b[39m.\u001b[39mshow(\u001b[39mself\u001b[39m,\n\u001b[0;32m   2889\u001b[0m                          regularizedConverterFormat,\n\u001b[0;32m   2890\u001b[0m                          app\u001b[39m=\u001b[39mapp,\n\u001b[0;32m   2891\u001b[0m                          subformats\u001b[39m=\u001b[39msubformats,\n\u001b[0;32m   2892\u001b[0m                          \u001b[39m*\u001b[39m\u001b[39m*\u001b[39mkeywords)\n",
      "File \u001b[1;32mc:\\Users\\DooFromash\\miniconda3\\envs\\melody-generator-model\\lib\\site-packages\\music21\\converter\\subConverters.py:395\u001b[0m, in \u001b[0;36mConverterIPython.show\u001b[1;34m(self, obj, fmt, app, subformats, **keywords)\u001b[0m\n\u001b[0;32m    392\u001b[0m     scores \u001b[39m=\u001b[39m \u001b[39mlist\u001b[39m(obj\u001b[39m.\u001b[39mscores)\n\u001b[0;32m    394\u001b[0m \u001b[39mfor\u001b[39;00m s \u001b[39min\u001b[39;00m scores:\n\u001b[1;32m--> 395\u001b[0m     fp \u001b[39m=\u001b[39m helperSubConverter\u001b[39m.\u001b[39mwrite(s,\n\u001b[0;32m    396\u001b[0m                                   helperFormat,\n\u001b[0;32m    397\u001b[0m                                   subformats\u001b[39m=\u001b[39mhelperSubformats,\n\u001b[0;32m    398\u001b[0m                                   \u001b[39m*\u001b[39m\u001b[39m*\u001b[39mkeywords\n\u001b[0;32m    399\u001b[0m                                   )\n\u001b[0;32m    401\u001b[0m     \u001b[39mif\u001b[39;00m helperSubformats[\u001b[39m0\u001b[39m] \u001b[39m==\u001b[39m \u001b[39m'\u001b[39m\u001b[39mpng\u001b[39m\u001b[39m'\u001b[39m:\n\u001b[0;32m    402\u001b[0m         \u001b[39mif\u001b[39;00m \u001b[39mnot\u001b[39;00m \u001b[39mstr\u001b[39m(environLocal[\u001b[39m'\u001b[39m\u001b[39mmusescoreDirectPNGPath\u001b[39m\u001b[39m'\u001b[39m])\u001b[39m.\u001b[39mstartswith(\u001b[39m'\u001b[39m\u001b[39m/skip\u001b[39m\u001b[39m'\u001b[39m):\n",
      "File \u001b[1;32mc:\\Users\\DooFromash\\miniconda3\\envs\\melody-generator-model\\lib\\site-packages\\music21\\converter\\subConverters.py:1138\u001b[0m, in \u001b[0;36mConverterMusicXML.write\u001b[1;34m(self, obj, fmt, fp, subformats, makeNotation, compress, **keywords)\u001b[0m\n\u001b[0;32m   1133\u001b[0m     defaults\u001b[39m.\u001b[39mauthor \u001b[39m=\u001b[39m savedDefaultAuthor\n\u001b[0;32m   1135\u001b[0m \u001b[39mif\u001b[39;00m (subformats \u001b[39mis\u001b[39;00m \u001b[39mnot\u001b[39;00m \u001b[39mNone\u001b[39;00m\n\u001b[0;32m   1136\u001b[0m         \u001b[39mand\u001b[39;00m (\u001b[39m'\u001b[39m\u001b[39mpng\u001b[39m\u001b[39m'\u001b[39m \u001b[39min\u001b[39;00m subformats \u001b[39mor\u001b[39;00m \u001b[39m'\u001b[39m\u001b[39mpdf\u001b[39m\u001b[39m'\u001b[39m \u001b[39min\u001b[39;00m subformats)\n\u001b[0;32m   1137\u001b[0m         \u001b[39mand\u001b[39;00m \u001b[39mnot\u001b[39;00m \u001b[39mstr\u001b[39m(environLocal[\u001b[39m'\u001b[39m\u001b[39mmusescoreDirectPNGPath\u001b[39m\u001b[39m'\u001b[39m])\u001b[39m.\u001b[39mstartswith(\u001b[39m'\u001b[39m\u001b[39m/skip\u001b[39m\u001b[39m'\u001b[39m)):\n\u001b[1;32m-> 1138\u001b[0m     outFp \u001b[39m=\u001b[39m \u001b[39mself\u001b[39m\u001b[39m.\u001b[39mrunThroughMusescore(xmlFp, subformats, \u001b[39m*\u001b[39m\u001b[39m*\u001b[39mkeywords)\n\u001b[0;32m   1139\u001b[0m \u001b[39melif\u001b[39;00m compress:\n\u001b[0;32m   1140\u001b[0m     archiveTools\u001b[39m.\u001b[39mcompressXML(xmlFp,\n\u001b[0;32m   1141\u001b[0m                              deleteOriginal\u001b[39m=\u001b[39m\u001b[39mTrue\u001b[39;00m,\n\u001b[0;32m   1142\u001b[0m                              silent\u001b[39m=\u001b[39m\u001b[39mTrue\u001b[39;00m,\n\u001b[0;32m   1143\u001b[0m                              strictMxlCheck\u001b[39m=\u001b[39m\u001b[39mFalse\u001b[39;00m)\n",
      "File \u001b[1;32mc:\\Users\\DooFromash\\miniconda3\\envs\\melody-generator-model\\lib\\site-packages\\music21\\converter\\subConverters.py:972\u001b[0m, in \u001b[0;36mConverterMusicXML.runThroughMusescore\u001b[1;34m(self, fp, subformats, dpi, **keywords)\u001b[0m\n\u001b[0;32m    968\u001b[0m     \u001b[39mraise\u001b[39;00m SubConverterException(\n\u001b[0;32m    969\u001b[0m         \u001b[39m'\u001b[39m\u001b[39mTo create PNG files directly from MusicXML you need to download MuseScore and \u001b[39m\u001b[39m'\u001b[39m\n\u001b[0;32m    970\u001b[0m         \u001b[39m+\u001b[39m \u001b[39m'\u001b[39m\u001b[39mput a link to it in your .music21rc via Environment.\u001b[39m\u001b[39m'\u001b[39m)\n\u001b[0;32m    971\u001b[0m \u001b[39mif\u001b[39;00m \u001b[39mnot\u001b[39;00m musescorePath\u001b[39m.\u001b[39mexists():\n\u001b[1;32m--> 972\u001b[0m     \u001b[39mraise\u001b[39;00m SubConverterException(\n\u001b[0;32m    973\u001b[0m         \u001b[39m\"\u001b[39m\u001b[39mCannot find a path to the \u001b[39m\u001b[39m'\u001b[39m\u001b[39mmscore\u001b[39m\u001b[39m'\u001b[39m\u001b[39m file at \u001b[39m\u001b[39m\"\u001b[39m\n\u001b[0;32m    974\u001b[0m         \u001b[39m+\u001b[39m \u001b[39mf\u001b[39m\u001b[39m'\u001b[39m\u001b[39m{\u001b[39;00mmusescorePath\u001b[39m}\u001b[39;00m\u001b[39m -- download MuseScore\u001b[39m\u001b[39m'\u001b[39m)\n\u001b[0;32m    976\u001b[0m \u001b[39mif\u001b[39;00m subformats \u001b[39mis\u001b[39;00m \u001b[39mNone\u001b[39;00m:\n\u001b[0;32m    977\u001b[0m     subformatExtension \u001b[39m=\u001b[39m \u001b[39m'\u001b[39m\u001b[39mpng\u001b[39m\u001b[39m'\u001b[39m\n",
      "\u001b[1;31mSubConverterException\u001b[0m: Cannot find a path to the 'mscore' file at c:\\Users\\DooFromash\\Desktop\\CODING\\10.melody-generator-model\\melody-generator-AI-App\\AI-model\\C:\\Program Files\\MuseScore 3\\MuseScore.exe -- download MuseScore"
     ]
    }
   ],
   "source": [
    "dataset_name = '../AI-model'\n",
    "filename = 'Melody_generated'\n",
    "file = \"{}/{}.mid\".format(dataset_name, filename)\n",
    "original_score = converter.parse(file).chordify()\n",
    "original_score.show()"
   ]
  },
  {
   "cell_type": "code",
   "execution_count": 129,
   "metadata": {},
   "outputs": [
    {
     "name": "stdout",
     "output_type": "stream",
     "text": [
      "Music file Melody_Generated.mid loaded!\n"
     ]
    },
    {
     "ename": "AttributeError",
     "evalue": "'tuple' object has no attribute 'tb_frame'",
     "output_type": "error",
     "traceback": [
      "\u001b[1;31m---------------------------------------------------------------------------\u001b[0m",
      "\u001b[1;31mKeyboardInterrupt\u001b[0m                         Traceback (most recent call last)",
      "Cell \u001b[1;32mIn[129], line 35\u001b[0m\n\u001b[0;32m     34\u001b[0m \u001b[39mtry\u001b[39;00m:\n\u001b[1;32m---> 35\u001b[0m     play_music(music_file)\n\u001b[0;32m     36\u001b[0m \u001b[39mexcept\u001b[39;00m \u001b[39mKeyboardInterrupt\u001b[39;00m:\n\u001b[0;32m     37\u001b[0m     \u001b[39m# if user hits Ctrl/C then exit\u001b[39;00m\n\u001b[0;32m     38\u001b[0m     \u001b[39m# (works only in console mode)\u001b[39;00m\n",
      "Cell \u001b[1;32mIn[129], line 18\u001b[0m, in \u001b[0;36mplay_music\u001b[1;34m(music_file)\u001b[0m\n\u001b[0;32m     16\u001b[0m \u001b[39mwhile\u001b[39;00m pygame\u001b[39m.\u001b[39mmixer\u001b[39m.\u001b[39mmusic\u001b[39m.\u001b[39mget_busy():\n\u001b[0;32m     17\u001b[0m     \u001b[39m# check if playback has finished\u001b[39;00m\n\u001b[1;32m---> 18\u001b[0m     clock\u001b[39m.\u001b[39;49mtick(\u001b[39m30\u001b[39;49m)\n",
      "\u001b[1;31mKeyboardInterrupt\u001b[0m: ",
      "\nDuring handling of the above exception, another exception occurred:\n",
      "\u001b[1;31mSystemExit\u001b[0m                                Traceback (most recent call last)",
      "    \u001b[1;31m[... skipping hidden 1 frame]\u001b[0m\n",
      "Cell \u001b[1;32mIn[129], line 41\u001b[0m\n\u001b[0;32m     40\u001b[0m pygame\u001b[39m.\u001b[39mmixer\u001b[39m.\u001b[39mmusic\u001b[39m.\u001b[39mstop()\n\u001b[1;32m---> 41\u001b[0m \u001b[39mraise\u001b[39;00m \u001b[39mSystemExit\u001b[39;00m \n",
      "\u001b[1;31mSystemExit\u001b[0m: ",
      "\nDuring handling of the above exception, another exception occurred:\n",
      "\u001b[1;31mAttributeError\u001b[0m                            Traceback (most recent call last)",
      "    \u001b[1;31m[... skipping hidden 1 frame]\u001b[0m\n",
      "File \u001b[1;32mc:\\Users\\DooFromash\\miniconda3\\envs\\melody-generator-model\\lib\\site-packages\\IPython\\core\\interactiveshell.py:2047\u001b[0m, in \u001b[0;36mInteractiveShell.showtraceback\u001b[1;34m(self, exc_tuple, filename, tb_offset, exception_only, running_compiled_code)\u001b[0m\n\u001b[0;32m   2044\u001b[0m \u001b[39mif\u001b[39;00m exception_only:\n\u001b[0;32m   2045\u001b[0m     stb \u001b[39m=\u001b[39m [\u001b[39m'\u001b[39m\u001b[39mAn exception has occurred, use \u001b[39m\u001b[39m%\u001b[39m\u001b[39mtb to see \u001b[39m\u001b[39m'\u001b[39m\n\u001b[0;32m   2046\u001b[0m            \u001b[39m'\u001b[39m\u001b[39mthe full traceback.\u001b[39m\u001b[39m\\n\u001b[39;00m\u001b[39m'\u001b[39m]\n\u001b[1;32m-> 2047\u001b[0m     stb\u001b[39m.\u001b[39mextend(\u001b[39mself\u001b[39;49m\u001b[39m.\u001b[39;49mInteractiveTB\u001b[39m.\u001b[39;49mget_exception_only(etype,\n\u001b[0;32m   2048\u001b[0m                                                      value))\n\u001b[0;32m   2049\u001b[0m \u001b[39melse\u001b[39;00m:\n\u001b[0;32m   2050\u001b[0m     \u001b[39mtry\u001b[39;00m:\n\u001b[0;32m   2051\u001b[0m         \u001b[39m# Exception classes can customise their traceback - we\u001b[39;00m\n\u001b[0;32m   2052\u001b[0m         \u001b[39m# use this in IPython.parallel for exceptions occurring\u001b[39;00m\n\u001b[0;32m   2053\u001b[0m         \u001b[39m# in the engines. This should return a list of strings.\u001b[39;00m\n",
      "File \u001b[1;32mc:\\Users\\DooFromash\\miniconda3\\envs\\melody-generator-model\\lib\\site-packages\\IPython\\core\\ultratb.py:636\u001b[0m, in \u001b[0;36mListTB.get_exception_only\u001b[1;34m(self, etype, value)\u001b[0m\n\u001b[0;32m    628\u001b[0m \u001b[39mdef\u001b[39;00m \u001b[39mget_exception_only\u001b[39m(\u001b[39mself\u001b[39m, etype, value):\n\u001b[0;32m    629\u001b[0m \u001b[39m    \u001b[39m\u001b[39m\"\"\"Only print the exception type and message, without a traceback.\u001b[39;00m\n\u001b[0;32m    630\u001b[0m \n\u001b[0;32m    631\u001b[0m \u001b[39m    Parameters\u001b[39;00m\n\u001b[1;32m   (...)\u001b[0m\n\u001b[0;32m    634\u001b[0m \u001b[39m    value : exception value\u001b[39;00m\n\u001b[0;32m    635\u001b[0m \u001b[39m    \"\"\"\u001b[39;00m\n\u001b[1;32m--> 636\u001b[0m     \u001b[39mreturn\u001b[39;00m ListTB\u001b[39m.\u001b[39;49mstructured_traceback(\u001b[39mself\u001b[39;49m, etype, value)\n",
      "File \u001b[1;32mc:\\Users\\DooFromash\\miniconda3\\envs\\melody-generator-model\\lib\\site-packages\\IPython\\core\\ultratb.py:503\u001b[0m, in \u001b[0;36mListTB.structured_traceback\u001b[1;34m(self, etype, evalue, etb, tb_offset, context)\u001b[0m\n\u001b[0;32m    500\u001b[0m     chained_exc_ids\u001b[39m.\u001b[39madd(\u001b[39mid\u001b[39m(exception[\u001b[39m1\u001b[39m]))\n\u001b[0;32m    501\u001b[0m     chained_exceptions_tb_offset \u001b[39m=\u001b[39m \u001b[39m0\u001b[39m\n\u001b[0;32m    502\u001b[0m     out_list \u001b[39m=\u001b[39m (\n\u001b[1;32m--> 503\u001b[0m         \u001b[39mself\u001b[39;49m\u001b[39m.\u001b[39;49mstructured_traceback(\n\u001b[0;32m    504\u001b[0m             etype, evalue, (etb, chained_exc_ids),\n\u001b[0;32m    505\u001b[0m             chained_exceptions_tb_offset, context)\n\u001b[0;32m    506\u001b[0m         \u001b[39m+\u001b[39m chained_exception_message\n\u001b[0;32m    507\u001b[0m         \u001b[39m+\u001b[39m out_list)\n\u001b[0;32m    509\u001b[0m \u001b[39mreturn\u001b[39;00m out_list\n",
      "File \u001b[1;32mc:\\Users\\DooFromash\\miniconda3\\envs\\melody-generator-model\\lib\\site-packages\\IPython\\core\\ultratb.py:1288\u001b[0m, in \u001b[0;36mAutoFormattedTB.structured_traceback\u001b[1;34m(self, etype, value, tb, tb_offset, number_of_lines_of_context)\u001b[0m\n\u001b[0;32m   1286\u001b[0m \u001b[39melse\u001b[39;00m:\n\u001b[0;32m   1287\u001b[0m     \u001b[39mself\u001b[39m\u001b[39m.\u001b[39mtb \u001b[39m=\u001b[39m tb\n\u001b[1;32m-> 1288\u001b[0m \u001b[39mreturn\u001b[39;00m FormattedTB\u001b[39m.\u001b[39;49mstructured_traceback(\n\u001b[0;32m   1289\u001b[0m     \u001b[39mself\u001b[39;49m, etype, value, tb, tb_offset, number_of_lines_of_context)\n",
      "File \u001b[1;32mc:\\Users\\DooFromash\\miniconda3\\envs\\melody-generator-model\\lib\\site-packages\\IPython\\core\\ultratb.py:1177\u001b[0m, in \u001b[0;36mFormattedTB.structured_traceback\u001b[1;34m(self, etype, value, tb, tb_offset, number_of_lines_of_context)\u001b[0m\n\u001b[0;32m   1174\u001b[0m mode \u001b[39m=\u001b[39m \u001b[39mself\u001b[39m\u001b[39m.\u001b[39mmode\n\u001b[0;32m   1175\u001b[0m \u001b[39mif\u001b[39;00m mode \u001b[39min\u001b[39;00m \u001b[39mself\u001b[39m\u001b[39m.\u001b[39mverbose_modes:\n\u001b[0;32m   1176\u001b[0m     \u001b[39m# Verbose modes need a full traceback\u001b[39;00m\n\u001b[1;32m-> 1177\u001b[0m     \u001b[39mreturn\u001b[39;00m VerboseTB\u001b[39m.\u001b[39;49mstructured_traceback(\n\u001b[0;32m   1178\u001b[0m         \u001b[39mself\u001b[39;49m, etype, value, tb, tb_offset, number_of_lines_of_context\n\u001b[0;32m   1179\u001b[0m     )\n\u001b[0;32m   1180\u001b[0m \u001b[39melif\u001b[39;00m mode \u001b[39m==\u001b[39m \u001b[39m'\u001b[39m\u001b[39mMinimal\u001b[39m\u001b[39m'\u001b[39m:\n\u001b[0;32m   1181\u001b[0m     \u001b[39mreturn\u001b[39;00m ListTB\u001b[39m.\u001b[39mget_exception_only(\u001b[39mself\u001b[39m, etype, value)\n",
      "File \u001b[1;32mc:\\Users\\DooFromash\\miniconda3\\envs\\melody-generator-model\\lib\\site-packages\\IPython\\core\\ultratb.py:1030\u001b[0m, in \u001b[0;36mVerboseTB.structured_traceback\u001b[1;34m(self, etype, evalue, etb, tb_offset, number_of_lines_of_context)\u001b[0m\n\u001b[0;32m   1021\u001b[0m \u001b[39mdef\u001b[39;00m \u001b[39mstructured_traceback\u001b[39m(\n\u001b[0;32m   1022\u001b[0m     \u001b[39mself\u001b[39m,\n\u001b[0;32m   1023\u001b[0m     etype: \u001b[39mtype\u001b[39m,\n\u001b[1;32m   (...)\u001b[0m\n\u001b[0;32m   1027\u001b[0m     number_of_lines_of_context: \u001b[39mint\u001b[39m \u001b[39m=\u001b[39m \u001b[39m5\u001b[39m,\n\u001b[0;32m   1028\u001b[0m ):\n\u001b[0;32m   1029\u001b[0m \u001b[39m    \u001b[39m\u001b[39m\"\"\"Return a nice text document describing the traceback.\"\"\"\u001b[39;00m\n\u001b[1;32m-> 1030\u001b[0m     formatted_exception \u001b[39m=\u001b[39m \u001b[39mself\u001b[39;49m\u001b[39m.\u001b[39;49mformat_exception_as_a_whole(etype, evalue, etb, number_of_lines_of_context,\n\u001b[0;32m   1031\u001b[0m                                                            tb_offset)\n\u001b[0;32m   1033\u001b[0m     colors \u001b[39m=\u001b[39m \u001b[39mself\u001b[39m\u001b[39m.\u001b[39mColors  \u001b[39m# just a shorthand + quicker name lookup\u001b[39;00m\n\u001b[0;32m   1034\u001b[0m     colorsnormal \u001b[39m=\u001b[39m colors\u001b[39m.\u001b[39mNormal  \u001b[39m# used a lot\u001b[39;00m\n",
      "File \u001b[1;32mc:\\Users\\DooFromash\\miniconda3\\envs\\melody-generator-model\\lib\\site-packages\\IPython\\core\\ultratb.py:935\u001b[0m, in \u001b[0;36mVerboseTB.format_exception_as_a_whole\u001b[1;34m(self, etype, evalue, etb, number_of_lines_of_context, tb_offset)\u001b[0m\n\u001b[0;32m    932\u001b[0m \u001b[39massert\u001b[39;00m \u001b[39misinstance\u001b[39m(tb_offset, \u001b[39mint\u001b[39m)\n\u001b[0;32m    933\u001b[0m head \u001b[39m=\u001b[39m \u001b[39mself\u001b[39m\u001b[39m.\u001b[39mprepare_header(etype, \u001b[39mself\u001b[39m\u001b[39m.\u001b[39mlong_header)\n\u001b[0;32m    934\u001b[0m records \u001b[39m=\u001b[39m (\n\u001b[1;32m--> 935\u001b[0m     \u001b[39mself\u001b[39;49m\u001b[39m.\u001b[39;49mget_records(etb, number_of_lines_of_context, tb_offset) \u001b[39mif\u001b[39;00m etb \u001b[39melse\u001b[39;00m []\n\u001b[0;32m    936\u001b[0m )\n\u001b[0;32m    938\u001b[0m frames \u001b[39m=\u001b[39m []\n\u001b[0;32m    939\u001b[0m skipped \u001b[39m=\u001b[39m \u001b[39m0\u001b[39m\n",
      "File \u001b[1;32mc:\\Users\\DooFromash\\miniconda3\\envs\\melody-generator-model\\lib\\site-packages\\IPython\\core\\ultratb.py:1002\u001b[0m, in \u001b[0;36mVerboseTB.get_records\u001b[1;34m(self, etb, number_of_lines_of_context, tb_offset)\u001b[0m\n\u001b[0;32m   1000\u001b[0m tbs \u001b[39m=\u001b[39m []\n\u001b[0;32m   1001\u001b[0m \u001b[39mwhile\u001b[39;00m cf \u001b[39mis\u001b[39;00m \u001b[39mnot\u001b[39;00m \u001b[39mNone\u001b[39;00m:\n\u001b[1;32m-> 1002\u001b[0m     source_file \u001b[39m=\u001b[39m inspect\u001b[39m.\u001b[39mgetsourcefile(etb\u001b[39m.\u001b[39;49mtb_frame)\n\u001b[0;32m   1003\u001b[0m     lines, first \u001b[39m=\u001b[39m inspect\u001b[39m.\u001b[39mgetsourcelines(etb\u001b[39m.\u001b[39mtb_frame)\n\u001b[0;32m   1004\u001b[0m     max_len \u001b[39m=\u001b[39m \u001b[39mmax\u001b[39m(max_len, first \u001b[39m+\u001b[39m \u001b[39mlen\u001b[39m(lines))\n",
      "\u001b[1;31mAttributeError\u001b[0m: 'tuple' object has no attribute 'tb_frame'"
     ]
    }
   ],
   "source": [
    "\n",
    "import pygame\n",
    "\n",
    "def play_music(music_file):\n",
    "    \"\"\"\n",
    "    stream music with mixer.music module in blocking manner\n",
    "    this will stream the sound from disk while playing\n",
    "    \"\"\"\n",
    "    clock = pygame.time.Clock()\n",
    "    try:\n",
    "        pygame.mixer.music.load(music_file)\n",
    "        print (\"Music file %s loaded!\" % music_file)\n",
    "    except pygame.error:\n",
    "        print (\"File %s not found! (%s)\") % (music_file, pygame.get_error())\n",
    "        return\n",
    "    pygame.mixer.music.play()\n",
    "    while pygame.mixer.music.get_busy():\n",
    "        # check if playback has finished\n",
    "        clock.tick(30)\n",
    "\n",
    "\n",
    "# pick a midi music file you have ...\n",
    "# (if not in working folder use full path)\n",
    "music_file = \"Melody_Generated.mid\"\n",
    "\n",
    "freq = 44100    # audio CD quality\n",
    "bitsize = -16   # unsigned 16 bit\n",
    "channels = 2    # 1 is mono, 2 is stereo\n",
    "buffer = 1024    # number of samples\n",
    "pygame.mixer.init(freq, bitsize, channels, buffer)\n",
    "\n",
    "# optional volume 0 to 1.0\n",
    "pygame.mixer.music.set_volume(0.8)\n",
    "\n",
    "try:\n",
    "    play_music(music_file)\n",
    "except KeyboardInterrupt:\n",
    "    # if user hits Ctrl/C then exit\n",
    "    # (works only in console mode)\n",
    "    pygame.mixer.music.fadeout(1000)\n",
    "    pygame.mixer.music.stop()\n",
    "    raise SystemExit "
   ]
  }
 ],
 "metadata": {
  "kernelspec": {
   "display_name": "melody-generator-model",
   "language": "python",
   "name": "python3"
  },
  "language_info": {
   "codemirror_mode": {
    "name": "ipython",
    "version": 3
   },
   "file_extension": ".py",
   "mimetype": "text/x-python",
   "name": "python",
   "nbconvert_exporter": "python",
   "pygments_lexer": "ipython3",
   "version": "3.10.9"
  },
  "orig_nbformat": 4,
  "vscode": {
   "interpreter": {
    "hash": "a87b80912d14acd250d01475df11400d103fdd7fe7428ca4a6221724e51db087"
   }
  }
 },
 "nbformat": 4,
 "nbformat_minor": 2
}
